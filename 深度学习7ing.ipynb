{
 "cells": [
  {
   "cell_type": "code",
   "execution_count": 4,
   "metadata": {},
   "outputs": [],
   "source": [
    "#单词级的one-hot编码\n",
    "\n",
    "import numpy as np\n",
    "\n",
    "samples=['The cat sat on the mat.','The dog ate my homework']  #每个样本是列表的一个元素\n",
    "\n",
    "token_index={}\n",
    "for sample in samples:\n",
    "    for word in sample.split():\n",
    "        if word not in token_index:\n",
    "            token_index[word]=len(token_index)+1\n",
    "            \n",
    "max_length=10\n",
    "\n",
    "results=np.zeros(shape=(len(samples),max_length,max(token_index.values())+1))\n",
    "\n",
    "for i,sample in enumerate(samples):\n",
    "    for j,word in list(enumerate(sample.split()))[:max_length]:\n",
    "        index=token_index.get(word)\n",
    "        results[i,j,index]=1"
   ]
  },
  {
   "cell_type": "code",
   "execution_count": 8,
   "metadata": {},
   "outputs": [],
   "source": [
    "#字符级的one-hot编码\n",
    "\n",
    "import string\n",
    "\n",
    "samples=['The cat sat on the mat.','The dog ate my homework'] \n",
    "characters=string.printable\n",
    "token_index=dict(zip(range(1,len(characters)+1),characters))\n",
    "\n",
    "max_length=50\n",
    "results=np.zeros((len(samples),max_length,max(token_index.keys())+1))\n",
    "for i,sample in enumerate(samples):\n",
    "    for j,character in enumerate(sample):\n",
    "        index=token_index.get(character)\n",
    "        results[i,j,index]=1"
   ]
  },
  {
   "cell_type": "code",
   "execution_count": 11,
   "metadata": {},
   "outputs": [
    {
     "name": "stdout",
     "output_type": "stream",
     "text": [
      "Found 9 unique tokens.\n"
     ]
    }
   ],
   "source": [
    "#用keras实现单词级的one-hot编码\n",
    "\n",
    "from keras.preprocessing.text import Tokenizer\n",
    "\n",
    "samples=['The cat sat on the mat.','The dog ate my homework'] \n",
    "\n",
    "tokenizer=Tokenizer(num_words=1000)\n",
    "tokenizer.fit_on_texts(samples)\n",
    "\n",
    "sequences=tokenizer.texts_to_sequences(samples)\n",
    "\n",
    "one_hot_results=tokenizer.texts_to_matrix(samples,mode='binary')\n",
    "\n",
    "word_index=tokenizer.word_index\n",
    "print('Found %s unique tokens.'%len(word_index))"
   ]
  },
  {
   "cell_type": "code",
   "execution_count": 13,
   "metadata": {},
   "outputs": [],
   "source": [
    "#使用散列技巧的单词级的one-hot编码\n",
    "samples=['The cat sat on the mat.','The dog ate my homework'] \n",
    "dimensionality=1000   #将单词保存为长度为1000的向量\n",
    "max_length=10\n",
    "\n",
    "results=np.zeros((len(samples),max_length,dimensionality))\n",
    "\n",
    "for i,sample in enumerate(samples):\n",
    "    for j,word in list(enumerate(sample.split()))[:max_length]:\n",
    "        idex=abs(hash(word)%dimensionality)        #将单词列散为0—1000范围内的一个随机整数索引\n",
    "        results[i,j,idex]=1        "
   ]
  },
  {
   "cell_type": "code",
   "execution_count": 14,
   "metadata": {},
   "outputs": [],
   "source": [
    "#将一个Embedding层实例化\n",
    "from keras.layers import Embedding\n",
    "\n",
    "embedding_layer=Embedding(1000,64)  #标记个数为1000，嵌入的维度为64"
   ]
  },
  {
   "cell_type": "code",
   "execution_count": 9,
   "metadata": {},
   "outputs": [],
   "source": [
    "from keras.datasets import imdb\n",
    "from keras.preprocessing import sequence\n",
    "\n",
    "max_features=10000\n",
    "maxlen=20\n",
    "\n",
    "(x_train,y_train),(x_test,y_test)=imdb.load_data(num_words=max_features)\n",
    "\n",
    "x_train=sequence.pad_sequences(x_train,maxlen=maxlen)\n",
    "x_test=sequence.pad_sequences(x_test,maxlen=maxlen)"
   ]
  },
  {
   "cell_type": "code",
   "execution_count": 11,
   "metadata": {},
   "outputs": [
    {
     "name": "stdout",
     "output_type": "stream",
     "text": [
      "_________________________________________________________________\n",
      "Layer (type)                 Output Shape              Param #   \n",
      "=================================================================\n",
      "embedding_2 (Embedding)      (None, 20, 8)             80000     \n",
      "_________________________________________________________________\n",
      "flatten_2 (Flatten)          (None, 160)               0         \n",
      "_________________________________________________________________\n",
      "dense_2 (Dense)              (None, 1)                 161       \n",
      "=================================================================\n",
      "Total params: 80,161\n",
      "Trainable params: 80,161\n",
      "Non-trainable params: 0\n",
      "_________________________________________________________________\n",
      "WARNING:tensorflow:From D:\\Aanconda2\\lib\\site-packages\\tensorflow\\python\\ops\\math_ops.py:3066: to_int32 (from tensorflow.python.ops.math_ops) is deprecated and will be removed in a future version.\n",
      "Instructions for updating:\n",
      "Use tf.cast instead.\n",
      "Train on 20000 samples, validate on 5000 samples\n",
      "Epoch 1/10\n",
      "20000/20000 [==============================] - 11s 533us/step - loss: 0.6647 - acc: 0.6300 - val_loss: 0.6088 - val_acc: 0.7018\n",
      "Epoch 2/10\n",
      "20000/20000 [==============================] - 7s 374us/step - loss: 0.5340 - acc: 0.7508 - val_loss: 0.5217 - val_acc: 0.7316A: 3s - loss: 0.5560 - acc:  - ETA: 2s - loss: 0.5524 - acc: 0 - ETA: 2s - loss: 0.5508 - acc: - ETA: 2s - loss: 0.5480 - a - ETA: 1s - loss:  - ETA: 0s - loss: 0.5382 \n",
      "Epoch 3/10\n",
      "20000/20000 [==============================] - 7s 358us/step - loss: 0.4589 - acc: 0.7883 - val_loss: 0.4977 - val_acc: 0.74704s - loss: 0.472 - ETA: 2s - loss: 0.4648 - ETA: 2s - loss: 0.4627  - ETA: 1s - \n",
      "Epoch 4/10\n",
      "20000/20000 [==============================] - 7s 340us/step - loss: 0.4211 - acc: 0.8092 - val_loss: 0.4927 - val_acc: 0.7540loss: 0.4212 - acc: 0. - ETA: 2s - - ETA: 1s - loss: - ETA: 0s - loss: 0.4213 - acc: 0.809\n",
      "Epoch 5/10\n",
      "20000/20000 [==============================] - 7s 354us/step - loss: 0.3940 - acc: 0.8256 - val_loss: 0.4926 - val_acc: 0.7564s - loss: 0.4022  - ETA: 4s - loss: 0.3964  - ETA: 3s - loss: 0. - ETA: 2s - loss: 0.3 - ETA: 1s - loss - ETA: 0s - loss: 0.3934 - acc: \n",
      "Epoch 6/10\n",
      "20000/20000 [==============================] - 7s 348us/step - loss: 0.3719 - acc: 0.8381 - val_loss: 0.4973 - val_acc: 0.7554- acc:  - ETA: 2s - loss: 0.3695 - acc - ETA: 1s - loss: 0.3697 - acc: 0 - ETA: 1s - loss: 0.3705 - acc: 0.83 - ETA: 1s - loss: 0.3701 - acc - ETA: 0s - loss: 0.3714 - acc: 0. - ETA: 0s - loss: 0.3713 - acc: 0.83 - ETA: 0s - loss: 0.3709 - a\n",
      "Epoch 7/10\n",
      "20000/20000 [==============================] - 7s 373us/step - loss: 0.3517 - acc: 0.8508 - val_loss: 0.5002 - val_acc: 0.7566: 5s - loss: 0.3474 - ETA: 4s - loss: 0.3497 - acc: 0.8 - ETA: 3s - loss: 0.3499 - acc: 0. - ETA: 3s - loss: 0.3481 - acc: 0. - ETA: 3s - loss: 0.3484 - acc:  - ETA: 3s - l - ETA: 1s - loss: 0.3506  - ETA: 0s - loss: 0.3521 - acc\n",
      "Epoch 8/10\n",
      "20000/20000 [==============================] - 7s 367us/step - loss: 0.3327 - acc: 0.8602 - val_loss: 0.5073 - val_acc: 0.7552: 6s - loss: 0.3606 - a - ETA: 6s - loss: 0.3446 - ETA: 5s - loss: 0.3420 - acc: 0.85 - ETA: 5s - loss: 0.3400 - acc: 0. - ETA: 4s - loss: 0.3371 - acc:  - ETA: 4s - loss: 0.3344 - acc: 0.86 - ETA: 4s - loss: 0.3348 - ac - ETA: 4s - loss: 0.3332 - acc: 0.86 - ETA: 4s - loss: 0.3327 - acc: - ETA: 3s - loss: 0.3353 - acc: - ETA: 3s - loss: 0.3340 - acc - ETA: 2s - loss: 0.3362 - acc: 0. - ETA: 2s - loss: 0.337 - ETA: 1s - loss: 0.3347 - acc: 0.8 - ETA: 1s - loss: 0.3338  - ETA: 0s - loss: 0.3335 - acc\n",
      "Epoch 9/10\n",
      "20000/20000 [==============================] - 6s 324us/step - loss: 0.3148 - acc: 0.8694 - val_loss: 0.5143 - val_acc: 0.7578 6s - loss: 0.3105 - ETA: 0s - loss: 0.3146 - acc: 0\n",
      "Epoch 10/10\n",
      "20000/20000 [==============================] - 7s 339us/step - loss: 0.2976 - acc: 0.8786 - val_loss: 0.5222 - val_acc: 0.7542: 4s - loss: 0.2932 - acc - ETA: 1s - loss: 0.296 - ETA: 0s - loss: 0.2985 - a\n"
     ]
    }
   ],
   "source": [
    "from keras.models import Sequential\n",
    "from keras.layers import Flatten,Dense,Embedding\n",
    "\n",
    "model=Sequential()\n",
    "model.add(Embedding(10000,8,input_length=maxlen))\n",
    "\n",
    "model.add(Flatten())\n",
    "\n",
    "model.add(Dense(1,activation='sigmoid'))\n",
    "model.compile(optimizer='rmsprop',loss='binary_crossentropy',metrics=['acc'])\n",
    "model.summary()\n",
    "\n",
    "history=model.fit(x_train,y_train,\n",
    "                 epochs=10,\n",
    "                 batch_size=30,\n",
    "                 validation_split=0.2)"
   ]
  },
  {
   "cell_type": "code",
   "execution_count": null,
   "metadata": {},
   "outputs": [],
   "source": []
  }
 ],
 "metadata": {
  "kernelspec": {
   "display_name": "Python 3",
   "language": "python",
   "name": "python3"
  },
  "language_info": {
   "codemirror_mode": {
    "name": "ipython",
    "version": 3
   },
   "file_extension": ".py",
   "mimetype": "text/x-python",
   "name": "python",
   "nbconvert_exporter": "python",
   "pygments_lexer": "ipython3",
   "version": "3.7.0"
  }
 },
 "nbformat": 4,
 "nbformat_minor": 2
}

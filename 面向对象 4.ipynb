{
 "cells": [
  {
   "cell_type": "code",
   "execution_count": 4,
   "metadata": {},
   "outputs": [
    {
     "name": "stdout",
     "output_type": "stream",
     "text": [
      "running\n"
     ]
    }
   ],
   "source": [
    "class Animal(object):\n",
    "    pass\n",
    "class Manmal(Animal):\n",
    "    pass\n",
    "class Bird(Animal):\n",
    "    pass\n",
    "\n",
    "class Dog(Manmal):\n",
    "    pass\n",
    "class Parrot(Bird):\n",
    "    pass\n",
    "\n",
    "class Run(object):\n",
    "    def run(self):\n",
    "        print('running')\n",
    "        \n",
    "class Fly(object):\n",
    "    def fly(self):\n",
    "        print('flying')\n",
    "        \n",
    "class Dog(Manmal,Run):\n",
    "    pass\n",
    "\n",
    "dog=Dog()\n",
    "dog.run()"
   ]
  },
  {
   "cell_type": "code",
   "execution_count": 5,
   "metadata": {},
   "outputs": [
    {
     "name": "stdout",
     "output_type": "stream",
     "text": [
      "1\n",
      "1\n",
      "2\n",
      "3\n",
      "5\n",
      "8\n",
      "13\n",
      "21\n",
      "34\n",
      "55\n",
      "89\n",
      "144\n",
      "233\n",
      "377\n",
      "610\n",
      "987\n",
      "1597\n",
      "2584\n",
      "4181\n",
      "6765\n",
      "10946\n",
      "17711\n",
      "28657\n",
      "46368\n",
      "75025\n"
     ]
    }
   ],
   "source": [
    "class Fib(object):\n",
    "    def __init__(self):\n",
    "        self.a,self.b=0,1\n",
    "        \n",
    "    def __iter__(self):\n",
    "        return self\n",
    "    \n",
    "    def __next__(self):\n",
    "        self.a,self.b=self.b,self.a+self.b\n",
    "        if self.a>100000:\n",
    "            raise StopIteration()\n",
    "        return self.a\n",
    "    \n",
    "for n in Fib():\n",
    "    print(n)"
   ]
  },
  {
   "cell_type": "code",
   "execution_count": 7,
   "metadata": {},
   "outputs": [
    {
     "data": {
      "text/plain": [
       "1"
      ]
     },
     "execution_count": 7,
     "metadata": {},
     "output_type": "execute_result"
    }
   ],
   "source": [
    "class Fib(object):\n",
    "    def __getitem__(self,n):\n",
    "        a,b=1,1\n",
    "        for x in range(n):\n",
    "            a,b=b,a+b\n",
    "        return a\n",
    "    \n",
    "f=Fib()\n",
    "f[0]"
   ]
  },
  {
   "cell_type": "code",
   "execution_count": 9,
   "metadata": {},
   "outputs": [
    {
     "data": {
      "text/plain": [
       "[1, 2, 3, 5]"
      ]
     },
     "execution_count": 9,
     "metadata": {},
     "output_type": "execute_result"
    }
   ],
   "source": [
    "class Fib(object):\n",
    "    def __getitem__(self,n):\n",
    "        if isinstance(n,int):\n",
    "            a,b=1,1\n",
    "            for x in range(n):\n",
    "                a,b=b,a+b\n",
    "            return a\n",
    "        if isinstance(n,slice):\n",
    "            start=n.start\n",
    "            stop=n.stop\n",
    "            if start is None:\n",
    "                start=0\n",
    "            a,b=1,1\n",
    "            L=[]\n",
    "            for x in range(stop):\n",
    "                if x>=start:\n",
    "                    L.append(a)\n",
    "                a,b=b,a+b\n",
    "            return L\n",
    "        \n",
    "f=Fib()\n",
    "f[1:5]"
   ]
  },
  {
   "cell_type": "code",
   "execution_count": 10,
   "metadata": {},
   "outputs": [
    {
     "data": {
      "text/plain": [
       "8"
      ]
     },
     "execution_count": 10,
     "metadata": {},
     "output_type": "execute_result"
    }
   ],
   "source": [
    "f[5]"
   ]
  },
  {
   "cell_type": "code",
   "execution_count": 11,
   "metadata": {},
   "outputs": [
    {
     "data": {
      "text/plain": [
       "[1, 1, 2, 3, 5]"
      ]
     },
     "execution_count": 11,
     "metadata": {},
     "output_type": "execute_result"
    }
   ],
   "source": [
    "f[:5]"
   ]
  },
  {
   "cell_type": "code",
   "execution_count": 12,
   "metadata": {},
   "outputs": [
    {
     "name": "stdout",
     "output_type": "stream",
     "text": [
      "My name is Mile.\n"
     ]
    }
   ],
   "source": [
    "class Student(object):\n",
    "    def __init__(self,name):\n",
    "        self.name=name\n",
    "        \n",
    "    def __call__(self):\n",
    "        print('My name is %s.'% self.name)\n",
    "        \n",
    "s=Student('Mile')\n",
    "s()"
   ]
  },
  {
   "cell_type": "code",
   "execution_count": null,
   "metadata": {},
   "outputs": [],
   "source": []
  }
 ],
 "metadata": {
  "kernelspec": {
   "display_name": "Python 3",
   "language": "python",
   "name": "python3"
  },
  "language_info": {
   "codemirror_mode": {
    "name": "ipython",
    "version": 3
   },
   "file_extension": ".py",
   "mimetype": "text/x-python",
   "name": "python",
   "nbconvert_exporter": "python",
   "pygments_lexer": "ipython3",
   "version": "3.7.0"
  }
 },
 "nbformat": 4,
 "nbformat_minor": 2
}

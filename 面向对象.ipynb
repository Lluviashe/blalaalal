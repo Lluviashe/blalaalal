{
 "cells": [
  {
   "cell_type": "code",
   "execution_count": 26,
   "metadata": {},
   "outputs": [],
   "source": [
    "class Person(object):\n",
    "    def __init__(self,name):\n",
    "        self.name=name\n",
    "        self.blood=100\n",
    "    \n",
    "    def installBullet(self,clip,bullet):\n",
    "        clip.saveBullet(bullet)\n",
    "        \n",
    "    def installClip(self,gun,clip):\n",
    "        gun.mountingClip(clip)\n",
    "        \n",
    "    def takeGun(self,gun):\n",
    "        self.gun=gun\n",
    "        \n",
    "    def fire(self,enemy):\n",
    "        self.gun.shoot(enemy)\n",
    "    \n",
    "    def __str__(self):\n",
    "        return self.name+\"剩余血量\"+str(self.blood)\n",
    "    \n",
    "    def loseBlood(self,damage):\n",
    "        self.blood-=damage\n"
   ]
  },
  {
   "cell_type": "code",
   "execution_count": 37,
   "metadata": {},
   "outputs": [],
   "source": [
    "class Clip:\n",
    "    def __init__(self,capacity):\n",
    "        self.capacity=capacity\n",
    "        self.currentList=[]\n",
    "        \n",
    "    def saveBullet(self,bullet):\n",
    "        if len(self.currentList)<self.capacity:\n",
    "            self.currentList.append(bullet)\n",
    "            \n",
    "    def __str__(self):\n",
    "        return \"remain blood numberm:\"+str(len(self.currentList))+\"/\"+str(self.capacity)\n",
    "    \n",
    "    def shotBullet(self):\n",
    "        if len(self.currentList)>0:\n",
    "            self.currentList.pop()\n",
    "            return bullet\n",
    "        else:\n",
    "            return None"
   ]
  },
  {
   "cell_type": "code",
   "execution_count": 38,
   "metadata": {},
   "outputs": [],
   "source": [
    "class Bullet:\n",
    "    def __init__(self,damage):\n",
    "        self.damage=damage\n",
    "        \n",
    "    def hurt(self,enemy):\n",
    "        enemy.loseBlood(self.damage)\n",
    "        pass\n",
    "    \n",
    "\n",
    "class Gun:\n",
    "    def __init__(self):\n",
    "        self.clip=None\n",
    "    \n",
    "    def __str__(self):\n",
    "        if self.clip:\n",
    "            return \"have\"\n",
    "        else:\n",
    "            return \"None\"\n",
    "        \n",
    "    def mountingClip(self,clip):\n",
    "        if not self.clip:\n",
    "            self.clip=clip\n",
    "            \n",
    "    def shoot(self,enemy):\n",
    "        bullet=self.clip.shotBullet()\n",
    "        if bullet:\n",
    "            bullet.hurt(enemy)\n",
    "        else:\n",
    "            print(\"no bullet\")"
   ]
  },
  {
   "cell_type": "code",
   "execution_count": 39,
   "metadata": {},
   "outputs": [
    {
     "name": "stdout",
     "output_type": "stream",
     "text": [
      "remain blood numberm:0/20\n"
     ]
    }
   ],
   "source": [
    "soldier=Person('Boy')\n",
    "clip=Clip(20)\n",
    "print(clip)"
   ]
  },
  {
   "cell_type": "code",
   "execution_count": 40,
   "metadata": {},
   "outputs": [
    {
     "name": "stdout",
     "output_type": "stream",
     "text": [
      "remain blood numberm:5/20\n"
     ]
    }
   ],
   "source": [
    "i=0\n",
    "while i<5:\n",
    "    bullet=Bullet(5)\n",
    "    soldier.installBullet(clip,bullet)\n",
    "    i+=1\n",
    "print(clip)"
   ]
  },
  {
   "cell_type": "code",
   "execution_count": 41,
   "metadata": {},
   "outputs": [
    {
     "name": "stdout",
     "output_type": "stream",
     "text": [
      "None\n"
     ]
    }
   ],
   "source": [
    "gun=Gun()\n",
    "print(gun)"
   ]
  },
  {
   "cell_type": "code",
   "execution_count": 42,
   "metadata": {},
   "outputs": [
    {
     "name": "stdout",
     "output_type": "stream",
     "text": [
      "have\n"
     ]
    }
   ],
   "source": [
    "soldier.installClip(gun,clip)\n",
    "print(gun)"
   ]
  },
  {
   "cell_type": "code",
   "execution_count": 43,
   "metadata": {},
   "outputs": [
    {
     "name": "stdout",
     "output_type": "stream",
     "text": [
      "opposite剩余血量100\n"
     ]
    }
   ],
   "source": [
    "enemy=Person('opposite')\n",
    "print(enemy)"
   ]
  },
  {
   "cell_type": "code",
   "execution_count": 44,
   "metadata": {},
   "outputs": [
    {
     "name": "stdout",
     "output_type": "stream",
     "text": [
      "remain blood numberm:4/20\n",
      "opposite剩余血量95\n"
     ]
    }
   ],
   "source": [
    "soldier.takeGun(gun)\n",
    "soldier.fire(enemy)\n",
    "print(clip)\n",
    "print(enemy)"
   ]
  },
  {
   "cell_type": "code",
   "execution_count": 36,
   "metadata": {},
   "outputs": [
    {
     "name": "stdout",
     "output_type": "stream",
     "text": [
      "remain numberm:3/20\n",
      "opposite剩余血量90\n"
     ]
    }
   ],
   "source": [
    "soldier.fire(enemy)\n",
    "print(clip)\n",
    "print(enemy)"
   ]
  },
  {
   "cell_type": "code",
   "execution_count": null,
   "metadata": {},
   "outputs": [],
   "source": []
  }
 ],
 "metadata": {
  "kernelspec": {
   "display_name": "Python 3",
   "language": "python",
   "name": "python3"
  },
  "language_info": {
   "codemirror_mode": {
    "name": "ipython",
    "version": 3
   },
   "file_extension": ".py",
   "mimetype": "text/x-python",
   "name": "python",
   "nbconvert_exporter": "python",
   "pygments_lexer": "ipython3",
   "version": "3.7.0"
  }
 },
 "nbformat": 4,
 "nbformat_minor": 2
}

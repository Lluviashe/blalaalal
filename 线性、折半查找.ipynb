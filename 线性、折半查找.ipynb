{
 "cells": [
  {
   "cell_type": "code",
   "execution_count": 2,
   "metadata": {},
   "outputs": [
    {
     "data": {
      "text/plain": [
       "True"
      ]
     },
     "execution_count": 2,
     "metadata": {},
     "output_type": "execute_result"
    }
   ],
   "source": [
    "def xianxing(list,goal):\n",
    "    for i in range(len(list)-1):\n",
    "        if list[i]==goal:\n",
    "            return True\n",
    "        else:\n",
    "            return False\n",
    "        \n",
    "a=[12,19,6,33,8,100]\n",
    "b=12\n",
    "xianxing(a,b)"
   ]
  },
  {
   "cell_type": "code",
   "execution_count": 16,
   "metadata": {},
   "outputs": [
    {
     "data": {
      "text/plain": [
       "False"
      ]
     },
     "execution_count": 16,
     "metadata": {},
     "output_type": "execute_result"
    }
   ],
   "source": [
    "def zheban(list,goal):\n",
    "    low=0\n",
    "    high=len(list)-1\n",
    "    for i in range(len(list)-1):\n",
    "        for j in range(i+1,len(list)-1):\n",
    "            if list[i]>list[j]:\n",
    "                list[i],list[j]=list[j],list[i]\n",
    "    while low<=high:\n",
    "        mid=(low+high)//2\n",
    "        if goal>list[mid]:\n",
    "            low=mid+1\n",
    "        elif goal<list[mid]:\n",
    "            high=mid-1\n",
    "        else:\n",
    "            return Ture\n",
    "    return False\n",
    "    \n",
    "a=[12,19,6,33,8,100]\n",
    "b=15 \n",
    "zheban(a,b)    "
   ]
  },
  {
   "cell_type": "code",
   "execution_count": null,
   "metadata": {},
   "outputs": [],
   "source": []
  }
 ],
 "metadata": {
  "kernelspec": {
   "display_name": "Python 3",
   "language": "python",
   "name": "python3"
  },
  "language_info": {
   "codemirror_mode": {
    "name": "ipython",
    "version": 3
   },
   "file_extension": ".py",
   "mimetype": "text/x-python",
   "name": "python",
   "nbconvert_exporter": "python",
   "pygments_lexer": "ipython3",
   "version": "3.7.0"
  }
 },
 "nbformat": 4,
 "nbformat_minor": 2
}

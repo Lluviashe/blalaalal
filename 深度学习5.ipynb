{
 "cells": [
  {
   "cell_type": "code",
   "execution_count": null,
   "metadata": {},
   "outputs": [],
   "source": [
    "#留出验证\n",
    "\n",
    "num_validation_samples=10000\n",
    "\n",
    "np.random.shuffle(data)  #打乱数据\n",
    "\n",
    "validation_data=data[:num_validation_samples]   #定义验证集\n",
    "data=data[num_validation_samples:]\n",
    "\n",
    "training_data=data[:]   #定义训练集\n",
    "\n",
    "model=get_model()\n",
    "model.train(training_data)\n",
    "validation_score=model.evaluate(validation_data)  #在训练数据上训练模型，在验证数据上评估模型\n",
    "\n",
    "#现在可以调节模型、重新训练、评估，然后再次调节\n",
    "\n",
    "model=get_model()\n",
    "model.train(np.concatenate([training_data,validtion_data]))\n",
    "test_score=model.evaluate(test_data)"
   ]
  },
  {
   "cell_type": "code",
   "execution_count": null,
   "metadata": {},
   "outputs": [],
   "source": [
    "#K折交叉验证\n",
    "\n",
    "k=4\n",
    "\n",
    "num_validation_samples=len(data)//k\n",
    "\n",
    "np.random.shuffle(data)\n",
    "\n",
    "validation_scores=[]\n",
    "for fold in range(k):\n",
    "    vaaluate_data=data[num_validation_samples*fold:num_validation_samples*(fold+1)]  #选择验证数据分区\n",
    "    training_data=data[:num_validation_samples*fold]+data[num_validation_samples*(fold+1)]  #使用剩余数据作为训练数据 +号是列表合并，不是求和\n",
    "    \n",
    "    model=get_model()         #训练一个全新的模型 实例（未训练）\n",
    "    model.train(training_data)\n",
    "    validation_score=model.evaluate(validation_data)\n",
    "    validation_scores.append(validation_score)\n",
    "    \n",
    "validation_score=np.average(validation_scores)  #最终验证分数：K折验证分数的平均值\n",
    "\n",
    "model=get_model()\n",
    "model.train(data)\n",
    "test_score=model.evaluate(test_data)"
   ]
  },
  {
   "cell_type": "code",
   "execution_count": null,
   "metadata": {},
   "outputs": [],
   "source": [
    "from keras import regularizers\n",
    "\n",
    "regularizers.l1(0.001)         #L1正则化\n",
    "\n",
    "regularizers.l1_l2(l1=0.001,l2=0.001)  #同时做L2和L1正则化"
   ]
  },
  {
   "cell_type": "code",
   "execution_count": null,
   "metadata": {},
   "outputs": [],
   "source": [
    "#向IMDB网络中添加dropout\n",
    "model=models.Sequential()\n",
    "model.add(layers.Dense(16,activation='relu',input_shape=(10000,)))\n",
    "model.add(layers.Dropout(0.5))\n",
    "model.add(layers.Dense(16,activation='relu'))\n",
    "model.add(layers.Dropout(0.5))\n",
    "model.add(layers.Dense(1,activation='sigmoid'))"
   ]
  }
 ],
 "metadata": {
  "kernelspec": {
   "display_name": "Python 3",
   "language": "python",
   "name": "python3"
  },
  "language_info": {
   "codemirror_mode": {
    "name": "ipython",
    "version": 3
   },
   "file_extension": ".py",
   "mimetype": "text/x-python",
   "name": "python",
   "nbconvert_exporter": "python",
   "pygments_lexer": "ipython3",
   "version": "3.7.0"
  }
 },
 "nbformat": 4,
 "nbformat_minor": 2
}

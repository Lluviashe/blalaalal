{
 "cells": [
  {
   "cell_type": "code",
   "execution_count": 6,
   "metadata": {},
   "outputs": [
    {
     "name": "stdout",
     "output_type": "stream",
     "text": [
      "Jan --> Month.Jan 1\n",
      "Feb --> Month.Feb 2\n",
      "Mar --> Month.Mar 3\n",
      "Apr --> Month.Apr 4\n",
      "May --> Month.May 5\n",
      "Jun --> Month.Jun 6\n",
      "Jul --> Month.Jul 7\n",
      "Aug --> Month.Aug 8\n",
      "Sep --> Month.Sep 9\n",
      "Oct --> Month.Oct 10\n",
      "Nov --> Month.Nov 11\n",
      "Dec --> Month.Dec 12\n"
     ]
    }
   ],
   "source": [
    "from enum import Enum\n",
    "Month=Enum('Month',('Jan','Feb','Mar','Apr','May','Jun','Jul','Aug','Sep','Oct','Nov','Dec'))\n",
    "for name,member in Month.__members__.items():\n",
    "    print(name,'-->',member,member.value)"
   ]
  },
  {
   "cell_type": "code",
   "execution_count": 9,
   "metadata": {},
   "outputs": [
    {
     "name": "stdout",
     "output_type": "stream",
     "text": [
      "测试通过!\n"
     ]
    }
   ],
   "source": [
    "from enum import Enum,unique\n",
    "\n",
    "@unique\n",
    "class Gender(Enum):\n",
    "    Male=0\n",
    "    Female=1\n",
    "    \n",
    "class Student(object):\n",
    "    def __init__(self,name ,gender):\n",
    "        self.name=name\n",
    "        self.gender=gender\n",
    "        \n",
    "# 测试:\n",
    "bart = Student('Bart', Gender.Male)\n",
    "if bart.gender == Gender.Male:\n",
    "    print('测试通过!')\n",
    "else:\n",
    "    print('测试失败!')"
   ]
  },
  {
   "cell_type": "code",
   "execution_count": 7,
   "metadata": {},
   "outputs": [],
   "source": [
    "class Hello(object):\n",
    "    def hello(self,name='world'):\n",
    "        print('Hello,%s'%name)"
   ]
  },
  {
   "cell_type": "code",
   "execution_count": 10,
   "metadata": {},
   "outputs": [
    {
     "name": "stdout",
     "output_type": "stream",
     "text": [
      "Hello,world\n"
     ]
    }
   ],
   "source": [
    "h=Hello()\n",
    "h.hello()"
   ]
  },
  {
   "cell_type": "code",
   "execution_count": 11,
   "metadata": {},
   "outputs": [
    {
     "name": "stdout",
     "output_type": "stream",
     "text": [
      "<class '__main__.Hello'>\n"
     ]
    }
   ],
   "source": [
    "print(type(h))"
   ]
  },
  {
   "cell_type": "code",
   "execution_count": 12,
   "metadata": {},
   "outputs": [
    {
     "name": "stdout",
     "output_type": "stream",
     "text": [
      "<class 'type'>\n"
     ]
    }
   ],
   "source": [
    "print(type(Hello))"
   ]
  },
  {
   "cell_type": "code",
   "execution_count": null,
   "metadata": {},
   "outputs": [],
   "source": [
    "class ListMetaclass(type):\n",
    "    def __new__(cls,name,bases,attrs):\n",
    "        attrs['add']=lambda self,value:self.append(value)\n",
    "        return type.__new__(cls,name,bases,attrs)\n",
    "    \n",
    "class Mylist(list,metaclass=ListMetaclass):\n",
    "    pass"
   ]
  }
 ],
 "metadata": {
  "kernelspec": {
   "display_name": "Python 3",
   "language": "python",
   "name": "python3"
  },
  "language_info": {
   "codemirror_mode": {
    "name": "ipython",
    "version": 3
   },
   "file_extension": ".py",
   "mimetype": "text/x-python",
   "name": "python",
   "nbconvert_exporter": "python",
   "pygments_lexer": "ipython3",
   "version": "3.7.0"
  }
 },
 "nbformat": 4,
 "nbformat_minor": 2
}

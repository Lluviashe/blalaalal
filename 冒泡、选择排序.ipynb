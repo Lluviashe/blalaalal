{
 "cells": [
  {
   "cell_type": "code",
   "execution_count": 6,
   "metadata": {},
   "outputs": [
    {
     "name": "stdout",
     "output_type": "stream",
     "text": [
      "[8, 12, 18, 19, 23, 99]\n"
     ]
    }
   ],
   "source": [
    "def maopao(num):\n",
    "    for i in range(len(num)-1):\n",
    "        for j in range(len(num)-i-1):\n",
    "            if num[j]>num[j+1]:\n",
    "                num[j],num[j+1]=num[j+1],num[j]\n",
    "    return num\n",
    "\n",
    "num=[12,19,18,23,8,99]\n",
    "\n",
    "print(maopao(num))"
   ]
  },
  {
   "cell_type": "code",
   "execution_count": 11,
   "metadata": {},
   "outputs": [
    {
     "name": "stdout",
     "output_type": "stream",
     "text": [
      "[8, 12, 13, 18, 19, 99]\n"
     ]
    }
   ],
   "source": [
    "def xuanzhe(num):\n",
    "    for i in range(len(num)-1):\n",
    "        for j in range(i+1,len(num)-1):\n",
    "            if num[i]>num[j]:\n",
    "                num[i],num[j]=num[j],num[i]\n",
    "    return num\n",
    "\n",
    "num=[12,19,18,13,8,99]\n",
    "\n",
    "print(xuanzhe(num))\n",
    "            "
   ]
  },
  {
   "cell_type": "code",
   "execution_count": null,
   "metadata": {},
   "outputs": [],
   "source": []
  }
 ],
 "metadata": {
  "kernelspec": {
   "display_name": "Python 3",
   "language": "python",
   "name": "python3"
  },
  "language_info": {
   "codemirror_mode": {
    "name": "ipython",
    "version": 3
   },
   "file_extension": ".py",
   "mimetype": "text/x-python",
   "name": "python",
   "nbconvert_exporter": "python",
   "pygments_lexer": "ipython3",
   "version": "3.7.0"
  }
 },
 "nbformat": 4,
 "nbformat_minor": 2
}

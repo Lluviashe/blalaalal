{
 "cells": [
  {
   "cell_type": "code",
   "execution_count": 1,
   "metadata": {},
   "outputs": [
    {
     "name": "stdout",
     "output_type": "stream",
     "text": [
      "input number:\n",
      "90\n",
      "n=90\n",
      "2*3*3*5*1\n"
     ]
    }
   ],
   "source": [
    "import sys\n",
    "n=int(input(\"input number:\\n\"))\n",
    "print(\"n=%d\"%n)\n",
    "for i in range(2,n+1):\n",
    "    while n!=1:\n",
    "        if n%i==0:\n",
    "            sys.stdout.write(str(i))\n",
    "            sys.stdout.write(\"*\")\n",
    "            n=n//i\n",
    "        else:\n",
    "            break\n",
    "print(\"%d\"%n)"
   ]
  },
  {
   "cell_type": "code",
   "execution_count": 5,
   "metadata": {},
   "outputs": [
    {
     "name": "stdout",
     "output_type": "stream",
     "text": [
      "input number:\n",
      "90\n",
      "n=90\n",
      "2 * 3 * 3 * 5 * 1\n"
     ]
    }
   ],
   "source": [
    "n=int(input(\"input number:\\n\"))\n",
    "print(\"n=%d\"%n)\n",
    "for i in range(2,n+1):\n",
    "    while n!=1:\n",
    "        if n%i==0:\n",
    "            print(str(i),end=\" \")\n",
    "            print(\"*\",end=\" \")\n",
    "            n=n//i\n",
    "        else:\n",
    "            break\n",
    "print(1)"
   ]
  },
  {
   "cell_type": "code",
   "execution_count": null,
   "metadata": {},
   "outputs": [],
   "source": []
  }
 ],
 "metadata": {
  "kernelspec": {
   "display_name": "Python 3",
   "language": "python",
   "name": "python3"
  },
  "language_info": {
   "codemirror_mode": {
    "name": "ipython",
    "version": 3
   },
   "file_extension": ".py",
   "mimetype": "text/x-python",
   "name": "python",
   "nbconvert_exporter": "python",
   "pygments_lexer": "ipython3",
   "version": "3.7.0"
  }
 },
 "nbformat": 4,
 "nbformat_minor": 2
}

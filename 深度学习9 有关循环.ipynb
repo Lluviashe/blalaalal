{
 "cells": [
  {
   "cell_type": "code",
   "execution_count": null,
   "metadata": {},
   "outputs": [],
   "source": [
    "output_t=activition(dot(state_t,Uo)+dot(input_t,Wo)+dot(C_t,Vo)+bo)\n",
    "\n",
    "i_t=activation(dot(state_t,Ui)+dot(input_t,Wi)+bi)\n",
    "f_t=activation(dot(state_t,Uf)+dot(input_t,Wf)+bf)\n",
    "k_t=activation(dot(state_t,Uk)+dot(input_t,Wk)+bk)\n",
    "#将其进行随机组合\n",
    "c_t+1=i_t*k_t+c_t*f_t"
   ]
  },
  {
   "cell_type": "code",
   "execution_count": 17,
   "metadata": {},
   "outputs": [
    {
     "name": "stdout",
     "output_type": "stream",
     "text": [
      "WARNING:tensorflow:From D:\\Aanconda2\\lib\\site-packages\\tensorflow\\python\\ops\\math_ops.py:3066: to_int32 (from tensorflow.python.ops.math_ops) is deprecated and will be removed in a future version.\n",
      "Instructions for updating:\n",
      "Use tf.cast instead.\n",
      "Train on 20000 samples, validate on 5000 samples\n",
      "Epoch 1/10\n",
      "20000/20000 [==============================] - 84s 4ms/step - loss: 0.4942 - acc: 0.7688 - val_loss: 0.3989 - val_acc: 0.8334\n",
      "Epoch 2/10\n",
      "20000/20000 [==============================] - 78s 4ms/step - loss: 0.2933 - acc: 0.8832 - val_loss: 0.3007 - val_acc: 0.8716\n",
      "Epoch 3/10\n",
      "20000/20000 [==============================] - 78s 4ms/step - loss: 0.2294 - acc: 0.9148 - val_loss: 0.3250 - val_acc: 0.8834\n",
      "Epoch 4/10\n",
      "20000/20000 [==============================] - 78s 4ms/step - loss: 0.1988 - acc: 0.9257 - val_loss: 0.2915 - val_acc: 0.8742\n",
      "Epoch 5/10\n",
      "20000/20000 [==============================] - 77s 4ms/step - loss: 0.1760 - acc: 0.9362 - val_loss: 0.2953 - val_acc: 0.8770\n",
      "Epoch 6/10\n",
      "20000/20000 [==============================] - 79s 4ms/step - loss: 0.1596 - acc: 0.9429 - val_loss: 0.3645 - val_acc: 0.8474\n",
      "Epoch 7/10\n",
      "20000/20000 [==============================] - 79s 4ms/step - loss: 0.1425 - acc: 0.9497 - val_loss: 0.3352 - val_acc: 0.8854\n",
      "Epoch 8/10\n",
      "20000/20000 [==============================] - 81s 4ms/step - loss: 0.1356 - acc: 0.9534 - val_loss: 0.3819 - val_acc: 0.8728\n",
      "Epoch 9/10\n",
      "20000/20000 [==============================] - 90s 4ms/step - loss: 0.1262 - acc: 0.9552 - val_loss: 0.3825 - val_acc: 0.8520\n",
      "Epoch 10/10\n",
      "20000/20000 [==============================] - 86s 4ms/step - loss: 0.1135 - acc: 0.9625 - val_loss: 0.3499 - val_acc: 0.8822\n"
     ]
    }
   ],
   "source": [
    "from keras.datasets import imdb\n",
    "from keras.layers import LSTM\n",
    "from keras.models import Sequential\n",
    "from keras.layers import Embedding\n",
    "from keras.layers import Dense\n",
    "from keras.preprocessing import sequence\n",
    "\n",
    "max_features=10000\n",
    "maxlen=500\n",
    "(input_train,y_train),(input_test,y_test)=imdb.load_data(num_words=max_features)\n",
    "input_train=sequence.pad_sequences(input_train,maxlen=maxlen)\n",
    "\n",
    "model=Sequential()\n",
    "model.add(Embedding(max_features,32))\n",
    "model.add(LSTM(32))\n",
    "model.add(Dense(1,activation='sigmoid'))\n",
    "\n",
    "model.compile(optimizer='rmsprop',loss='binary_crossentropy',metrics=['acc'])\n",
    "history=model.fit(input_train,y_train,epochs=10,batch_size=128,validation_split=0.2)"
   ]
  },
  {
   "cell_type": "code",
   "execution_count": 1,
   "metadata": {},
   "outputs": [
    {
     "name": "stdout",
     "output_type": "stream",
     "text": [
      "['\"Date Time\"', '\"p (mbar)\"', '\"T (degC)\"', '\"Tpot (K)\"', '\"Tdew (degC)\"', '\"rh (%)\"', '\"VPmax (mbar)\"', '\"VPact (mbar)\"', '\"VPdef (mbar)\"', '\"sh (g/kg)\"', '\"H2OC (mmol/mol)\"', '\"rho (g/m**3)\"', '\"wv (m/s)\"', '\"max. wv (m/s)\"', '\"wd (deg)\"']\n",
      "420551\n"
     ]
    }
   ],
   "source": [
    "import os\n",
    "\n",
    "data_dir='C:/Users/SHESHE/Desktop'\n",
    "fname=os.path.join(data_dir,'jena_climate_2009_2016.csv')\n",
    "\n",
    "f=open(fname)\n",
    "data=f.read()\n",
    "f.close()\n",
    "\n",
    "lines=data.split('\\n')\n",
    "header=lines[0].split(',')\n",
    "lines=lines[1:]\n",
    "\n",
    "print(header)\n",
    "print(len(lines))"
   ]
  },
  {
   "cell_type": "code",
   "execution_count": 2,
   "metadata": {},
   "outputs": [],
   "source": [
    "import numpy as np\n",
    "\n",
    "float_data=np.zeros((len(lines),len(header)-1))\n",
    "for i,line in enumerate(lines):\n",
    "    values=[float(x) for x in line.split(',')[1:]]\n",
    "    float_data[i,:]=values"
   ]
  },
  {
   "cell_type": "code",
   "execution_count": 3,
   "metadata": {},
   "outputs": [
    {
     "data": {
      "text/plain": [
       "[<matplotlib.lines.Line2D at 0x1da8284be80>]"
      ]
     },
     "execution_count": 3,
     "metadata": {},
     "output_type": "execute_result"
    }
   ],
   "source": [
    "from matplotlib import pyplot as plt\n",
    "\n",
    "temp=float_data[:,1]\n",
    "plt.plot(range(len(temp)),temp)"
   ]
  },
  {
   "cell_type": "code",
   "execution_count": 4,
   "metadata": {},
   "outputs": [
    {
     "data": {
      "text/plain": [
       "[<matplotlib.lines.Line2D at 0x1da84456e80>]"
      ]
     },
     "execution_count": 4,
     "metadata": {},
     "output_type": "execute_result"
    },
    {
     "data": {
      "image/png": "[encoded data removed]",
      "text/plain": [
       "<Figure size 432x288 with 1 Axes>"
      ]
     },
     "metadata": {
      "needs_background": "light"
     },
     "output_type": "display_data"
    }
   ],
   "source": [
    "plt.plot(range(1440),temp[:1440])"
   ]
  },
  {
   "cell_type": "code",
   "execution_count": 5,
   "metadata": {},
   "outputs": [],
   "source": [
    "mean=float_data[:200000].mean(axis=0)\n",
    "float_data-=mean\n",
    "std=float_data[:200000].std(axis=0)\n",
    "float_data/=std"
   ]
  },
  {
   "cell_type": "code",
   "execution_count": 6,
   "metadata": {},
   "outputs": [],
   "source": [
    "def generator(data,lookback,delay,min_index,max_index,shuffle=False,batch_size=128,step=6):\n",
    "    if max_index is None:\n",
    "        max_index=len(data)-delay-1\n",
    "    i=min_index+lookback\n",
    "    while 1:\n",
    "        if shuffle:\n",
    "            rows=np.random.randint(min_index+lookback,max_index,size=batch_size)\n",
    "        else:\n",
    "            if i+batch_size>=max_index:\n",
    "                i=min_index+lookback\n",
    "            rows=np.arange(i,min(i+batch_size,max_index))\n",
    "            i+=len(rows)\n",
    "            \n",
    "        samples=np.zeros((len(rows),lookback//step,data.shape[-1]))\n",
    "       \n",
    "        targets=np.zeros((len(rows),))\n",
    "        for j,row in enumerate(rows):\n",
    "            indices=range(rows[j]-lookback,rows[j],step)\n",
    "            samples[j]=data[indices]\n",
    "            targets[j]=data[rows[j]+delay][1]\n",
    "        yield samples,targets"
   ]
  },
  {
   "cell_type": "code",
   "execution_count": 7,
   "metadata": {},
   "outputs": [],
   "source": [
    "lookback=1440\n",
    "step=6\n",
    "delay=144\n",
    "batch_size=128\n",
    "\n",
    "train_gen=generator(float_data,lookback=lookback,delay=delay,min_index=0,max_index=200000,shuffle=True,step=step,batch_size=batch_size)\n",
    "\n",
    "val_gen=generator(float_data,lookback=lookback,delay=delay,min_index=200001,max_index=300000,step=step,batch_size=batch_size)\n",
    "\n",
    "test_gen=generator(float_data,lookback=lookback,delay=delay,min_index=300001,max_index=None,step=step,batch_size=batch_size)\n",
    "\n",
    "val_steps=(300000-200001-lookback)//batch_size\n",
    "\n",
    "test_steps=(len(float_data)-300001-lookback)//batch_size"
   ]
  },
  {
   "cell_type": "code",
   "execution_count": 8,
   "metadata": {},
   "outputs": [
    {
     "name": "stdout",
     "output_type": "stream",
     "text": [
      "0.2897359729905486\n"
     ]
    }
   ],
   "source": [
    "def evaluate_naive_method():\n",
    "    batch_maes=[]\n",
    "    for step in range(val_steps):\n",
    "        samples,targets=next(val_gen)\n",
    "        preds=samples[:,-1,1]\n",
    "        mae=np.mean(np.abs(preds-targets))\n",
    "        batch_maes.append(mae)\n",
    "    print(np.mean(batch_maes))\n",
    "    \n",
    "evaluate_naive_method()"
   ]
  },
  {
   "cell_type": "code",
   "execution_count": 9,
   "metadata": {},
   "outputs": [
    {
     "name": "stdout",
     "output_type": "stream",
     "text": [
      "2.5672247338393395\n"
     ]
    }
   ],
   "source": [
    "celsius_mae=0.29*std[1]\n",
    "\n",
    "print(celsius_mae)"
   ]
  },
  {
   "cell_type": "code",
   "execution_count": 10,
   "metadata": {},
   "outputs": [
    {
     "name": "stderr",
     "output_type": "stream",
     "text": [
      "Using TensorFlow backend.\n"
     ]
    },
    {
     "name": "stdout",
     "output_type": "stream",
     "text": [
      "WARNING:tensorflow:From D:\\Aanconda2\\lib\\site-packages\\tensorflow\\python\\framework\\op_def_library.py:263: colocate_with (from tensorflow.python.framework.ops) is deprecated and will be removed in a future version.\n",
      "Instructions for updating:\n",
      "Colocations handled automatically by placer.\n",
      "WARNING:tensorflow:From D:\\Aanconda2\\lib\\site-packages\\tensorflow\\python\\ops\\math_ops.py:3066: to_int32 (from tensorflow.python.ops.math_ops) is deprecated and will be removed in a future version.\n",
      "Instructions for updating:\n",
      "Use tf.cast instead.\n",
      "Epoch 1/20\n",
      "500/500 [==============================] - 17s 33ms/step - loss: 1.2741 - val_loss: 0.7398\n",
      "Epoch 2/20\n",
      "500/500 [==============================] - 14s 28ms/step - loss: 0.3790 - val_loss: 0.3907\n",
      "Epoch 3/20\n",
      "500/500 [==============================] - 14s 28ms/step - loss: 0.2843 - val_loss: 0.3279\n",
      "Epoch 4/20\n",
      "500/500 [==============================] - 14s 28ms/step - loss: 0.2622 - val_loss: 0.3254\n",
      "Epoch 5/20\n",
      "500/500 [==============================] - 14s 28ms/step - loss: 0.2501 - val_loss: 0.3118\n",
      "Epoch 6/20\n",
      "500/500 [==============================] - 14s 27ms/step - loss: 0.2400 - val_loss: 0.3258\n",
      "Epoch 7/20\n",
      "500/500 [==============================] - 14s 27ms/step - loss: 0.2337 - val_loss: 0.3135\n",
      "Epoch 8/20\n",
      "500/500 [==============================] - 14s 28ms/step - loss: 0.2289 - val_loss: 0.3223\n",
      "Epoch 9/20\n",
      "500/500 [==============================] - 14s 28ms/step - loss: 0.2244 - val_loss: 0.3274\n",
      "Epoch 10/20\n",
      "500/500 [==============================] - 13s 27ms/step - loss: 0.2221 - val_loss: 0.3259\n",
      "Epoch 11/20\n",
      "500/500 [==============================] - 14s 27ms/step - loss: 0.2171 - val_loss: 0.3423\n",
      "Epoch 12/20\n",
      "500/500 [==============================] - 13s 27ms/step - loss: 0.2164 - val_loss: 0.3225\n",
      "Epoch 13/20\n",
      "500/500 [==============================] - 13s 27ms/step - loss: 0.2122 - val_loss: 0.3250\n",
      "Epoch 14/20\n",
      "500/500 [==============================] - 13s 27ms/step - loss: 0.2100 - val_loss: 0.3259\n",
      "Epoch 15/20\n",
      "500/500 [==============================] - 14s 28ms/step - loss: 0.2076 - val_loss: 0.3504\n",
      "Epoch 16/20\n",
      "500/500 [==============================] - 13s 27ms/step - loss: 0.2056 - val_loss: 0.3679\n",
      "Epoch 17/20\n",
      "500/500 [==============================] - 13s 26ms/step - loss: 0.2061 - val_loss: 0.3240\n",
      "Epoch 18/20\n",
      "500/500 [==============================] - 13s 26ms/step - loss: 0.2046 - val_loss: 0.3628\n",
      "Epoch 19/20\n",
      "500/500 [==============================] - 13s 27ms/step - loss: 0.2025 - val_loss: 0.3365\n",
      "Epoch 20/20\n",
      "500/500 [==============================] - 13s 27ms/step - loss: 0.1998 - val_loss: 0.3587\n"
     ]
    }
   ],
   "source": [
    "from keras.models import Sequential\n",
    "from keras import layers\n",
    "from keras.optimizers import RMSprop\n",
    "\n",
    "model=Sequential()\n",
    "model.add(layers.Flatten(input_shape=(lookback//step,float_data.shape[-1])))\n",
    "model.add(layers.Dense(32,activation='relu'))\n",
    "model.add(layers.Dense(1))\n",
    "model.compile(optimizer=RMSprop(),loss='mae')\n",
    "history=model.fit_generator(train_gen,steps_per_epoch=500,epochs=20,validation_data=val_gen,validation_steps=val_steps)"
   ]
  },
  {
   "cell_type": "code",
   "execution_count": 12,
   "metadata": {},
   "outputs": [
    {
     "data": {
      "image/png": "[encoded data removed]",
      "text/plain": [
       "<Figure size 432x288 with 1 Axes>"
      ]
     },
     "metadata": {
      "needs_background": "light"
     },
     "output_type": "display_data"
    }
   ],
   "source": [
    "import matplotlib.pyplot as plt\n",
    "\n",
    "loss=history.history['loss']\n",
    "val_loss=history.history['val_loss']\n",
    "\n",
    "epochs=range(1,len(loss)+1)\n",
    "\n",
    "plt.figure()\n",
    "\n",
    "plt.plot(epochs,loss,'bo',label='Training loss')\n",
    "plt.plot(epochs,val_loss,'b',label='Validation loss')\n",
    "plt.title('Training and validation loss')\n",
    "plt.legend()\n",
    "\n",
    "plt.show()"
   ]
  },
  {
   "cell_type": "code",
   "execution_count": 13,
   "metadata": {},
   "outputs": [
    {
     "name": "stdout",
     "output_type": "stream",
     "text": [
      "Epoch 1/20\n",
      "500/500 [==============================] - 75s 150ms/step - loss: 0.3038 - val_loss: 0.2718\n",
      "Epoch 2/20\n",
      "500/500 [==============================] - 69s 138ms/step - loss: 0.2814 - val_loss: 0.2749\n",
      "Epoch 3/20\n",
      "500/500 [==============================] - 67s 135ms/step - loss: 0.2769 - val_loss: 0.2691\n",
      "Epoch 4/20\n",
      "500/500 [==============================] - 71s 141ms/step - loss: 0.2736 - val_loss: 0.2695\n",
      "Epoch 5/20\n",
      "500/500 [==============================] - 70s 140ms/step - loss: 0.2676 - val_loss: 0.2728\n",
      "Epoch 6/20\n",
      "500/500 [==============================] - 72s 144ms/step - loss: 0.2618 - val_loss: 0.2630\n",
      "Epoch 7/20\n",
      "500/500 [==============================] - 76s 153ms/step - loss: 0.2594 - val_loss: 0.2673\n",
      "Epoch 8/20\n",
      "500/500 [==============================] - 74s 147ms/step - loss: 0.2545 - val_loss: 0.2679\n",
      "Epoch 9/20\n",
      "500/500 [==============================] - 73s 146ms/step - loss: 0.2499 - val_loss: 0.2704\n",
      "Epoch 10/20\n",
      "500/500 [==============================] - 71s 141ms/step - loss: 0.2448 - val_loss: 0.2766\n",
      "Epoch 11/20\n",
      "500/500 [==============================] - 71s 142ms/step - loss: 0.2419 - val_loss: 0.2790\n",
      "Epoch 12/20\n",
      "500/500 [==============================] - 71s 141ms/step - loss: 0.2374 - val_loss: 0.2817\n",
      "Epoch 13/20\n",
      "500/500 [==============================] - 72s 145ms/step - loss: 0.2315 - val_loss: 0.2824\n",
      "Epoch 14/20\n",
      "500/500 [==============================] - 71s 142ms/step - loss: 0.2281 - val_loss: 0.2846\n",
      "Epoch 15/20\n",
      "500/500 [==============================] - 74s 147ms/step - loss: 0.2267 - val_loss: 0.2809\n",
      "Epoch 16/20\n",
      "500/500 [==============================] - 72s 144ms/step - loss: 0.2240 - val_loss: 0.2887\n",
      "Epoch 17/20\n",
      "500/500 [==============================] - 72s 144ms/step - loss: 0.2191 - val_loss: 0.2863\n",
      "Epoch 18/20\n",
      "500/500 [==============================] - 72s 144ms/step - loss: 0.2177 - val_loss: 0.2900\n",
      "Epoch 19/20\n",
      "500/500 [==============================] - 71s 141ms/step - loss: 0.2154 - val_loss: 0.2953\n",
      "Epoch 20/20\n",
      "500/500 [==============================] - 72s 143ms/step - loss: 0.2127 - val_loss: 0.2946\n"
     ]
    }
   ],
   "source": [
    "from keras.models import Sequential\n",
    "from keras import layers\n",
    "from keras.optimizers import RMSprop\n",
    "\n",
    "model=Sequential()\n",
    "model.add(layers.GRU(32,input_shape=(None,float_data.shape[-1])))\n",
    "model.add(layers.Dense(1))\n",
    "          \n",
    "model.compile(optimizer=RMSprop(),loss='mae')\n",
    "history=model.fit_generator(train_gen,steps_per_epoch=500,epochs=20,validation_data=val_gen,validation_steps=val_steps)"
   ]
  },
  {
   "cell_type": "code",
   "execution_count": null,
   "metadata": {},
   "outputs": [
    {
     "name": "stdout",
     "output_type": "stream",
     "text": [
      "Epoch 1/40\n",
      "500/500 [==============================] - 87s 173ms/step - loss: 0.3371 - val_loss: 0.2761\n",
      "Epoch 2/40\n",
      "500/500 [==============================] - 86s 173ms/step - loss: 0.3150 - val_loss: 0.2779\n",
      "Epoch 3/40\n",
      "500/500 [==============================] - 86s 173ms/step - loss: 0.3094 - val_loss: 0.2695\n",
      "Epoch 4/40\n",
      "500/500 [==============================] - 117s 233ms/step - loss: 0.3051 - val_loss: 0.2686\n",
      "Epoch 5/40\n",
      "500/500 [==============================] - 116s 232ms/step - loss: 0.3022 - val_loss: 0.2674\n",
      "Epoch 6/40\n",
      "500/500 [==============================] - 110s 220ms/step - loss: 0.2990 - val_loss: 0.2692\n",
      "Epoch 7/40\n",
      "500/500 [==============================] - 2269s 5s/step - loss: 0.2966 - val_loss: 0.2661\n",
      "Epoch 8/40\n",
      "500/500 [==============================] - 105s 210ms/step - loss: 0.2966 - val_loss: 0.2667\n",
      "Epoch 9/40\n",
      "500/500 [==============================] - 94s 188ms/step - loss: 0.2932 - val_loss: 0.2647\n",
      "Epoch 10/40\n",
      "500/500 [==============================] - 93s 186ms/step - loss: 0.2938 - val_loss: 0.2624\n",
      "Epoch 11/40\n",
      "500/500 [==============================] - 94s 188ms/step - loss: 0.2916 - val_loss: 0.2672\n",
      "Epoch 12/40\n",
      "500/500 [==============================] - 95s 191ms/step - loss: 0.2891 - val_loss: 0.2743\n",
      "Epoch 13/40\n",
      "500/500 [==============================] - 93s 187ms/step - loss: 0.2879 - val_loss: 0.2646\n",
      "Epoch 14/40\n",
      "500/500 [==============================] - 94s 187ms/step - loss: 0.2878 - val_loss: 0.2668\n",
      "Epoch 15/40\n",
      "500/500 [==============================] - 94s 187ms/step - loss: 0.2854 - val_loss: 0.2637\n",
      "Epoch 16/40\n",
      "500/500 [==============================] - 102s 204ms/step - loss: 0.2849 - val_loss: 0.2645\n",
      "Epoch 17/40\n",
      "145/500 [=======>......................] - ETA: 1:04 - loss: 0.2824"
     ]
    }
   ],
   "source": [
    "from keras.models import Sequential\n",
    "from keras import layers\n",
    "from keras.optimizers import RMSprop\n",
    "\n",
    "model=Sequential()\n",
    "model.add(layers.GRU(32,dropout=0.2,recurrent_dropout=0.2,input_shape=(None,float_data.shape[-1])))\n",
    "model.add(layers.Dense(1))\n",
    "\n",
    "model.compile(optimizer=RMSprop(),loss='mae')\n",
    "hitory=model.fit_generator(train_gen,steps_per_epoch=500,epochs=40,validation_data=val_gen,validation_steps=val_steps)"
   ]
  },
  {
   "cell_type": "code",
   "execution_count": null,
   "metadata": {},
   "outputs": [],
   "source": [
    "from keras.models import Sequential\n",
    "from keras import layers\n",
    "from keras.optimizers import RMSprop\n",
    "\n",
    "model=Sequential()\n",
    "model.add(layer.GRU(32,dropout=0.2,input_shape(None,float_data.shape[-1])))\n",
    "model.add(layers.Dense(1))\n",
    "\n",
    "model.compile(optimizer=RMSprop(),loss='mae')\n",
    "history=model.fit_generator(train_gen,step_oer_eopch=500,epochs=40,validation_data=val_gen,validation_steps=val_steps)"
   ]
  },
  {
   "cell_type": "code",
   "execution_count": null,
   "metadata": {},
   "outputs": [],
   "source": []
  }
 ],
 "metadata": {
  "kernelspec": {
   "display_name": "Python 3",
   "language": "python",
   "name": "python3"
  },
  "language_info": {
   "codemirror_mode": {
    "name": "ipython",
    "version": 3
   },
   "file_extension": ".py",
   "mimetype": "text/x-python",
   "name": "python",
   "nbconvert_exporter": "python",
   "pygments_lexer": "ipython3",
   "version": "3.7.0"
  }
 },
 "nbformat": 4,
 "nbformat_minor": 2
}
